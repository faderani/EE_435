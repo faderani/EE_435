{
 "cells": [
  {
   "cell_type": "code",
   "execution_count": 1,
   "id": "49dc86b5",
   "metadata": {},
   "outputs": [],
   "source": [
    "import sys\n",
    "sys.path.append('../../')\n",
    "from autograd import numpy as np\n",
    "from mlrefined_libraries import nonlinear_superlearn_library as nonlib\n",
    "from mlrefined_libraries import multilayer_perceptron_library as multi\n",
    "from mlrefined_libraries import math_optimization_library as optlib\n",
    "\n",
    "\n",
    "datapath = './mlrefined_datasets/nonlinear_superlearn_datasets/'\n",
    "\n",
    "import matplotlib.pyplot as plt\n",
    "\n",
    "#from matplotlib import rcParams\n",
    "#rcParams['figure.autolayout'] = True\n",
    "#%matplotlib notebook\n",
    "\n",
    "\n",
    "%load_ext autoreload\n",
    "%autoreload 2"
   ]
  },
  {
   "cell_type": "markdown",
   "id": "4442f55a",
   "metadata": {},
   "source": [
    "# 13.1\n",
    "Two-class classification with neural networks\n",
    "Repeat the two-class classification experiment described in Example 13.4 begin-\n",
    "ning with the implementation outlined in Section 13.2.6. You need not reproduce\n",
    "the result shown in the top row of Figure 13.9, but can verify your result via\n",
    "checking that you can achieve perfect classification of the data."
   ]
  },
  {
   "cell_type": "code",
   "execution_count": 2,
   "id": "bd9fceeb",
   "metadata": {},
   "outputs": [
    {
     "name": "stdout",
     "output_type": "stream",
     "text": [
      "(2, 96) (1, 96)\n"
     ]
    }
   ],
   "source": [
    "data = np.loadtxt(datapath + '2_eggs.csv', delimiter=',')\n",
    "x = data[:2,:].T.astype(float).T\n",
    "y = data[2,:][np.newaxis,:].astype(int)\n",
    "print(x.shape, y.shape)\n"
   ]
  },
  {
   "cell_type": "code",
   "execution_count": 10,
   "id": "87ac2d6a",
   "metadata": {},
   "outputs": [
    {
     "data": {
      "text/plain": [
       "<matplotlib.legend.Legend at 0x7f5d10c263a0>"
      ]
     },
     "execution_count": 10,
     "metadata": {},
     "output_type": "execute_result"
    },
    {
     "data": {
      "image/png": "[encoded data removed]",
      "text/plain": [
       "<Figure size 432x288 with 1 Axes>"
      ]
     },
     "metadata": {
      "needs_background": "light"
     },
     "output_type": "display_data"
    }
   ],
   "source": [
    "module = multi.basic_lib.super_setup.Setup(x,y)\n",
    "\n",
    "module.preprocessing_steps(normalizer = 'standard')\n",
    "\n",
    "module.make_train_val_split(train_portion = 1) #using all data for training\n",
    "\n",
    "module.choose_cost(name = 'softmax')\n",
    "\n",
    "layer_sizes = [10,10,10,10]\n",
    "module.choose_features(feature_name = 'multilayer_perceptron',layer_sizes = layer_sizes,activation = 'tanh',scale = 0.5)\n",
    "\n",
    "module.fit(max_its = 1000,alpha_choice = 10**(-1),verbose = False)\n",
    "\n",
    "cost_history = module.train_cost_histories\n",
    "acc_history = module.train_accuracy_histories\n",
    "\n",
    "\n",
    "\n",
    "plt.plot(cost_history[0], label=\"loss\")\n",
    "plt.plot(acc_history[0], label=\"acc\")\n",
    "plt.legend()\n"
   ]
  },
  {
   "cell_type": "markdown",
   "id": "d217687c",
   "metadata": {},
   "source": [
    "# 13.2\n",
    "Multi-class classification with neural networks\n",
    "Repeat the multi-class classification experiment described in Example 13.4 be-\n",
    "\n",
    "ginning with the implementation outlined in Section 13.2.6. You need not re-\n",
    "produce the result shown in the bottom row of Figure 13.9, but can verify your\n",
    "result via checking that you can achieve perfect classification of the data."
   ]
  },
  {
   "cell_type": "code",
   "execution_count": 23,
   "id": "8ac16eae",
   "metadata": {},
   "outputs": [
    {
     "name": "stdout",
     "output_type": "stream",
     "text": [
      "(2, 110) (1, 110)\n"
     ]
    }
   ],
   "source": [
    "data = np.loadtxt(datapath + '3_layercake_data.csv', delimiter=',')\n",
    "x = data[:2,:].T.astype(float).T\n",
    "y = data[2,:][np.newaxis,:].astype(int)\n",
    "print(x.shape, y.shape)"
   ]
  },
  {
   "cell_type": "code",
   "execution_count": 21,
   "id": "9af99697",
   "metadata": {},
   "outputs": [
    {
     "data": {
      "text/plain": [
       "<matplotlib.legend.Legend at 0x7f5d10543370>"
      ]
     },
     "execution_count": 21,
     "metadata": {},
     "output_type": "execute_result"
    },
    {
     "data": {
      "image/png": "[encoded data removed]",
      "text/plain": [
       "<Figure size 432x288 with 1 Axes>"
      ]
     },
     "metadata": {
      "needs_background": "light"
     },
     "output_type": "display_data"
    }
   ],
   "source": [
    "module = multi.basic_lib.super_setup.Setup(x,y)\n",
    "\n",
    "module.preprocessing_steps(normalizer = 'standard')\n",
    "\n",
    "module.make_train_val_split(train_portion = 1) #using all training data\n",
    "\n",
    "module.choose_cost(name = 'multiclass_softmax')\n",
    "\n",
    "layer_sizes = [12,5]\n",
    "module.choose_features(feature_name = 'multilayer_perceptron',layer_sizes = layer_sizes,activation = 'tanh',scale = 0.1)\n",
    "\n",
    "module.fit(max_its = 5000,alpha_choice = 10**(-1),verbose = False)\n",
    "\n",
    "cost_history = module.train_cost_histories\n",
    "acc_history = module.train_accuracy_histories\n",
    "\n",
    "\n",
    "\n",
    "plt.plot(cost_history[0], label=\"loss\")\n",
    "plt.plot(acc_history[0], label=\"acc\")\n",
    "plt.legend()\n",
    "\n"
   ]
  },
  {
   "cell_type": "markdown",
   "id": "558a1825",
   "metadata": {},
   "source": [
    "# 13.3 \n",
    "(a) Find the total number Q of tunable parameters in a general L-hidden-layer\n",
    "neural network, in terms of variables expressed in the layer sizes list in Section\n",
    "13.2.6."
   ]
  },
  {
   "cell_type": "code",
   "execution_count": 55,
   "id": "4650938b",
   "metadata": {},
   "outputs": [],
   "source": [
    "def network_initializer(layer_sizes, scale):\n",
    "    \n",
    "    weights = []\n",
    "    \n",
    "    for k in range(len(layer_sizes)-1):\n",
    "        U_k = layer_sizes[k]\n",
    "        U_k_plus_1 = layer_sizes[k+1]\n",
    "        \n",
    "        weight = scale*np.random.randn(U_k+1, U_k_plus_1)\n",
    "        weights.append(weight)\n",
    "            \n",
    "    return np.array(weights, dtype=np.object)"
   ]
  },
  {
   "cell_type": "code",
   "execution_count": 56,
   "id": "96c22738",
   "metadata": {},
   "outputs": [
    {
     "name": "stdout",
     "output_type": "stream",
     "text": [
      "(3, 10) 30\n",
      "(11, 10) 110\n",
      "(11, 10) 110\n",
      "(11, 2) 22\n",
      "total number of tunable parameters = 272\n"
     ]
    }
   ],
   "source": [
    "layer_sizes = [2, 10, 10, 10, 2]\n",
    "weights = network_initializer(layer_sizes, 0.5)\n",
    "\n",
    "total_param_num = 0\n",
    "\n",
    "for w in weights:\n",
    "    total_param_num += w.size\n",
    "    print(w.shape, w.size)\n",
    "    \n",
    "print(f\"total number of tunable parameters = {total_param_num}\")"
   ]
  },
  {
   "cell_type": "markdown",
   "id": "d9f85d6c",
   "metadata": {},
   "source": [
    "(b) Based on your answer in part (a), explain how the input dimension N and\n",
    "number of datapoints P each contributes to Q. How is this different from what\n",
    "you saw with kernel methods in the previous chapter?"
   ]
  },
  {
   "cell_type": "markdown",
   "id": "45bdeeb8",
   "metadata": {},
   "source": [
    "Answer: (b) The input dimension N only affects the first set of weights. So the number of parameters will be (N+1)*10 + 110+110+22 \n",
    "\n",
    "The number o"
   ]
  },
  {
   "cell_type": "markdown",
   "id": "d559f8d2",
   "metadata": {},
   "source": []
  }
 ],
 "metadata": {
  "kernelspec": {
   "display_name": "Python 3 (ipykernel)",
   "language": "python",
   "name": "python3"
  },
  "language_info": {
   "codemirror_mode": {
    "name": "ipython",
    "version": 3
   },
   "file_extension": ".py",
   "mimetype": "text/x-python",
   "name": "python",
   "nbconvert_exporter": "python",
   "pygments_lexer": "ipython3",
   "version": "3.8.0"
  }
 },
 "nbformat": 4,
 "nbformat_minor": 5
}

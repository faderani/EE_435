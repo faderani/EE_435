{
 "cells": [
  {
   "cell_type": "code",
   "execution_count": 19,
   "id": "1406aae2",
   "metadata": {},
   "outputs": [],
   "source": [
    "import numpy as np\n",
    "from matplotlib.pylab import plt"
   ]
  },
  {
   "cell_type": "code",
   "execution_count": 78,
   "id": "baedbd03",
   "metadata": {},
   "outputs": [],
   "source": [
    "def gradient_descent_q1(init=2, iteration=1000, step=1):\n",
    "    \n",
    "    \n",
    "    values = []\n",
    "    w = init\n",
    "    fw_1 = 1/50*(w**4 + w**2 + 10*w)\n",
    "    \n",
    "    for x in range(0,iteration):\n",
    "        \n",
    "        gw = 1/50*(4*w**3+2*init+10)\n",
    "        w = w - gw*step\n",
    "        fw = 1/50*(w**4 + w**2 + 10*w)\n",
    "        values.append(fw)\n",
    "        fw_1 = fw\n",
    "        \n",
    "        \n",
    "    return values"
   ]
  },
  {
   "cell_type": "code",
   "execution_count": 79,
   "id": "57b04e9e",
   "metadata": {},
   "outputs": [
    {
     "data": {
      "text/plain": [
       "[<matplotlib.lines.Line2D at 0x7f7e62081550>]"
      ]
     },
     "execution_count": 79,
     "metadata": {},
     "output_type": "execute_result"
    },
    {
     "data": {
      "image/png": "[encoded data removed]",
      "text/plain": [
       "<Figure size 432x288 with 1 Axes>"
      ]
     },
     "metadata": {
      "needs_background": "light"
     },
     "output_type": "display_data"
    }
   ],
   "source": [
    "values = gradient_descent(init=2, iteration=10, step=0.01)\n",
    "\n",
    "plt.plot(values)"
   ]
  },
  {
   "cell_type": "code",
   "execution_count": 80,
   "id": "e24e8356",
   "metadata": {},
   "outputs": [],
   "source": [
    "def gradient_descent_q2(init, iteration=100, step=1):\n",
    "    \n",
    "    values = []\n",
    "    \n",
    "    w = init\n",
    "    \n",
    "    for x in range(0, iteration):\n",
    "        \n",
    "        fw = np.dot(w.T, w)\n",
    "                \n",
    "        gw = 2*w\n",
    "        w = w - gw*step\n",
    "        fw = np.dot(w.T, w)\n",
    "        \n",
    "        values.append(fw)\n",
    "        \n",
    "    return values"
   ]
  },
  {
   "cell_type": "code",
   "execution_count": 83,
   "id": "762be243",
   "metadata": {},
   "outputs": [
    {
     "data": {
      "text/plain": [
       "[<matplotlib.lines.Line2D at 0x7f7e61f2bfd0>]"
      ]
     },
     "execution_count": 83,
     "metadata": {},
     "output_type": "execute_result"
    },
    {
     "data": {
      "image/png": "[encoded data removed]",
      "text/plain": [
       "<Figure size 432x288 with 1 Axes>"
      ]
     },
     "metadata": {
      "needs_background": "light"
     },
     "output_type": "display_data"
    }
   ],
   "source": [
    "init = np.ones((10,))*10\n",
    "values = gradient_descent_q2(init=init , iteration=100, step=0.1)\n",
    "plt.plot(values)"
   ]
  },
  {
   "cell_type": "code",
   "execution_count": null,
   "id": "b33f096e",
   "metadata": {},
   "outputs": [],
   "source": []
  }
 ],
 "metadata": {
  "kernelspec": {
   "display_name": "Python 3 (ipykernel)",
   "language": "python",
   "name": "python3"
  },
  "language_info": {
   "codemirror_mode": {
    "name": "ipython",
    "version": 3
   },
   "file_extension": ".py",
   "mimetype": "text/x-python",
   "name": "python",
   "nbconvert_exporter": "python",
   "pygments_lexer": "ipython3",
   "version": "3.8.0"
  }
 },
 "nbformat": 4,
 "nbformat_minor": 5
}

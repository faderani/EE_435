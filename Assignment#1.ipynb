{
 "cells": [
  {
   "cell_type": "code",
   "execution_count": 8,
   "id": "82905b37",
   "metadata": {},
   "outputs": [],
   "source": [
    "import numpy\n",
    "from matplotlib.pylab import plt"
   ]
  },
  {
   "cell_type": "code",
   "execution_count": 10,
   "id": "a8ec73a9",
   "metadata": {},
   "outputs": [],
   "source": [
    "def gradient_descent(init=2, iteration=1000, step=1):\n",
    "    \n",
    "    \n",
    "    values = []\n",
    "    \n",
    "    for x in range(0,iteration):\n",
    "        \n",
    "        fw = 1/50*(init**4 + init**2 + 10*init)\n",
    "        gw = 1/50*(4*init**3+2*init+10)\n",
    "        \n",
    "        \n",
    "        init = fw - gw*step\n",
    "        \n",
    "        \n",
    "        values.append(fw)\n",
    "    return values"
   ]
  },
  {
   "cell_type": "code",
   "execution_count": 14,
   "id": "2327ad3a",
   "metadata": {},
   "outputs": [
    {
     "data": {
      "text/plain": [
       "[<matplotlib.lines.Line2D at 0x7f7e62dc2370>]"
      ]
     },
     "execution_count": 14,
     "metadata": {},
     "output_type": "execute_result"
    },
    {
     "data": {
      "image/png": "[encoded data removed]",
      "text/plain": [
       "<Figure size 432x288 with 1 Axes>"
      ]
     },
     "metadata": {
      "needs_background": "light"
     },
     "output_type": "display_data"
    }
   ],
   "source": [
    "values = gradient_descent(init=2, iteration=10, step=0.1)\n",
    "\n",
    "plt.plot(values)"
   ]
  },
  {
   "cell_type": "code",
   "execution_count": null,
   "id": "4b04f3d7",
   "metadata": {},
   "outputs": [],
   "source": []
  }
 ],
 "metadata": {
  "kernelspec": {
   "display_name": "Python 3 (ipykernel)",
   "language": "python",
   "name": "python3"
  },
  "language_info": {
   "codemirror_mode": {
    "name": "ipython",
    "version": 3
   },
   "file_extension": ".py",
   "mimetype": "text/x-python",
   "name": "python",
   "nbconvert_exporter": "python",
   "pygments_lexer": "ipython3",
   "version": "3.8.0"
  }
 },
 "nbformat": 4,
 "nbformat_minor": 5
}
